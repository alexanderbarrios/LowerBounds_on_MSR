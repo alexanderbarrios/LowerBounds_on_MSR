{
 "cells": [
  {
   "cell_type": "code",
   "execution_count": 1,
   "metadata": {
    "collapsed": false
   },
   "outputs": [
   ],
   "source": [
    "load('definitions.sage')\n",
    "R.<n>=ZZ[]"
   ]
  },
  {
   "cell_type": "markdown",
   "metadata": {
    "collapsed": false
   },
   "source": [
    "Let $F_T$ be as defined by the proof of Theorem 4.3. Let $\\mathcal{D}_T$ denote its discriminant. Then the minimal discriminant of $F_T$ is $w_T^{-12}\\mathcal{D}_T$. In particular, the admissible change of variables $(x,y) \\mapsto (w_T^2x,w_T^3y)$ gives rise to a model $F_{T}^{\\text{m}}$ with the property that its invariants are equal to that of a global minimal model of $F_T$. We note that the model $F_T^{\\text{m}}$ may not be integral. Below we denote $F_T^{\\text{m}}$ by FmN if $T=C_N$ or Fm2N if $T=C_2 \\times C_{2N}$.\n",
    "\n",
    "Next, let $A_T,B_T,D_T$ be as defined at the start of the proof of Theorem 4.3. The code below verifies that for $T \\neq C_1$, $F_T^{\\text{m}}$ is attained from $E_T(A_T,B_T,D_T)$ or $E_T(A_T,B_T)$. \n",
    "\n",
    "This is followed by verifying for each $T$, that $c_{4,T}, c_{6,T}$, and $\\mathcal{D}_{T}$ are the invariants of $F_T^\\text{m}$. That is, they correspond to the invariants of a global minimal model of $F\\_T$.\n",
    "\n"
   ]
  },
  {
   "cell_type": "code",
   "execution_count": 2,
   "metadata": {
    "collapsed": false
   },
   "outputs": [
    {
     "name": "stdout",
     "output_type": "stream",
     "text": [
      "True\n",
      "True\n",
      "True\n",
      "True\n",
      "True\n",
      "True\n",
      "True\n",
      "True\n"
     ]
    },
    {
     "name": "stdout",
     "output_type": "stream",
     "text": [
      "True\n",
      "True\n",
      "True\n",
      "True\n",
      "True\n",
      "True\n",
      "True\n",
      "True\n",
      "True\n",
      "True\n",
      "True\n",
      "True\n"
     ]
    },
    {
     "name": "stdout",
     "output_type": "stream",
     "text": [
      "True\n",
      "True\n",
      "True\n",
      "True\n",
      "True\n",
      "True\n",
      "True\n",
      "True\n",
      "True\n",
      "True\n",
      "True\n",
      "True\n",
      "True\n",
      "True\n",
      "True\n"
     ]
    },
    {
     "name": "stdout",
     "output_type": "stream",
     "text": [
      "True\n",
      "True\n",
      "True\n",
      "True\n",
      "True\n",
      "True\n",
      "True\n",
      "True\n",
      "True\n",
      "True\n",
      "True\n",
      "True\n",
      "True\n",
      "True\n",
      "True\n",
      "True\n",
      "True\n",
      "True\n",
      "True\n"
     ]
    },
    {
     "name": "stdout",
     "output_type": "stream",
     "text": [
      "True\n",
      "True\n",
      "True\n",
      "True\n",
      "True\n"
     ]
    }
   ],
   "source": [
    "print(Fm2(n) == E2(A2(n),B2(n),D2(n)).change_weierstrass_model(2))\n",
    "print(Fm3(n) == E3(A3(n),B3(n)))\n",
    "print(Fm4(n) == E4(A4(n),B4(n)).change_weierstrass_model(32*n))\n",
    "print(Fm5(n) == E5(A5(n),B5(n)))\n",
    "print(Fm6(n) == E6(A6(n),B6(n)))\n",
    "print(Fm7(n) == E7(A7(n),B7(n)))\n",
    "print(Fm8(n) == E8(A8(n),B8(n)))\n",
    "print(Fm9(n) == E9(A9(n),B9(n)))\n",
    "print(Fm10(n) == E10(A10(n),B10(n)))\n",
    "print(Fm12(n) == E12(A12(n),B12(n)))\n",
    "print(Fm22(n) == E22(A22(n),B22(n),D22(n)).change_weierstrass_model(2))\n",
    "print(Fm24(n) == E24(A24(n),B24(n)))\n",
    "print(Fm26(n) == E26(A26(n),B26(n)).change_weierstrass_model(16))\n",
    "print(Fm28(n) == E28(A28(n),B28(n)).change_weierstrass_model(64))\n",
    "print(S(c4_1(n)) == S(Fm1(n).c4()))\n",
    "print(S(c4_2(n)) == S(Fm2(n).c4()))\n",
    "print(S(c4_3(n)) == S(Fm3(n).c4()))\n",
    "print(S(c4_4(n)) == S(Fm4(n).c4()))\n",
    "print(S(c4_5(n)) == S(Fm5(n).c4()))\n",
    "print(S(c4_6(n)) == S(Fm6(n).c4()))\n",
    "print(S(c4_7(n)) == S(Fm7(n).c4()))\n",
    "print(S(c4_8(n)) == S(Fm8(n).c4()))\n",
    "print(S(c4_9(n)) == S(Fm9(n).c4()))\n",
    "print(S(c4_10(n)) == S(Fm10(n).c4()))\n",
    "print(S(c4_12(n)) == S(Fm12(n).c4()))\n",
    "print(S(c4_22(n)) == S(Fm22(n).c4()))\n",
    "print(S(c4_24(n)) == S(Fm24(n).c4()))\n",
    "print(S(c4_26(n)) == S(Fm26(n).c4()))\n",
    "print(S(c4_28(n)) == S(Fm28(n).c4()))\n",
    "print(S(c6_1(n)) == S(Fm1(n).c6()))\n",
    "print(S(c6_2(n)) == S(Fm2(n).c6()))\n",
    "print(S(c6_3(n)) == S(Fm3(n).c6()))\n",
    "print(S(c6_4(n)) == S(Fm4(n).c6()))\n",
    "print(S(c6_5(n)) == S(Fm5(n).c6()))\n",
    "print(S(c6_6(n)) == S(Fm6(n).c6()))\n",
    "print(S(c6_7(n)) == S(Fm7(n).c6()))\n",
    "print(S(c6_8(n)) == S(Fm8(n).c6()))\n",
    "print(S(c6_9(n)) == S(Fm9(n).c6()))\n",
    "print(S(c6_10(n)) == S(Fm10(n).c6()))\n",
    "print(S(c6_12(n)) == S(Fm12(n).c6()))\n",
    "print(S(c6_22(n)) == S(Fm22(n).c6()))\n",
    "print(S(c6_24(n)) == S(Fm24(n).c6()))\n",
    "print(S(c6_26(n)) == S(Fm26(n).c6()))\n",
    "print(S(c6_28(n)) == S(Fm28(n).c6()))\n",
    "print(S(calD_1(n)) == S(Fm1(n).discriminant()))\n",
    "print(S(calD_2(n)) == S(Fm2(n).discriminant()))\n",
    "print(S(calD_3(n)) == S(Fm3(n).discriminant()))\n",
    "print(S(calD_4(n)) == S(Fm4(n).discriminant()))\n",
    "print(S(calD_5(n)) == S(Fm5(n).discriminant()))\n",
    "print(S(calD_6(n)) == S(Fm6(n).discriminant()))\n",
    "print(S(calD_7(n)) == S(Fm7(n).discriminant()))\n",
    "print(S(calD_8(n)) == S(Fm8(n).discriminant()))\n",
    "print(S(calD_9(n)) == S(Fm9(n).discriminant()))\n",
    "print(S(calD_10(n)) == S(Fm10(n).discriminant()))\n",
    "print(S(calD_12(n)) == S(Fm12(n).discriminant()))\n",
    "print(S(calD_22(n)) == S(Fm22(n).discriminant()))\n",
    "print(S(calD_24(n)) == S(Fm24(n).discriminant()))\n",
    "print(S(calD_26(n)) == S(Fm26(n).discriminant()))\n",
    "print(S(calD_28(n)) == S(Fm28(n).discriminant()))"
   ]
  },
  {
   "cell_type": "markdown",
   "metadata": {
    "collapsed": false
   },
   "source": [
    "The code below shows that for each $T$, $\\mathfrak{f}_T$ has content $1$, and there exists an $a \\in \\mathbb{Z}$ such that $f(a)$ is squarefree."
   ]
  },
  {
   "cell_type": "code",
   "execution_count": 0,
   "metadata": {
    "collapsed": false
   },
   "outputs": [
   ],
   "source": [
    "print([R(frakf1(n)).content_ideal(),R(frakf2(n)).content_ideal(),R(frakf3(n)).content_ideal(),R(frakf4(n)).content_ideal(),R(frakf5(n)).content_ideal(),R(frakf6(n)).content_ideal(),R(frakf7(n)).content_ideal(),R(frakf8(n)).content_ideal())\n",
    "print(R(frakf9(n)).content_ideal())\n",
    "print(R(frakf10(n)).content_ideal())\n",
    "print(R(frakf12(n)).content_ideal())\n",
    "print(R(frakf22(n)).content_ideal())\n",
    "print(R(frakf24(n)).content_ideal())\n",
    "print(R(frakf26(n)).content_ideal())\n",
    "print(R(frakf28(n)).content_ideal())\n",
    "print(factor(ZZ(frakf1(1))))\n",
    "print(factor(ZZ(frakf2(3))))\n",
    "print(factor(ZZ(frakf3(1))))\n",
    "print(factor(ZZ(frakf4(1))))\n",
    "print(factor(ZZ(frakf5(1))))\n",
    "print(factor(ZZ(frakf6(3))))\n",
    "print(factor(ZZ(frakf7(3))))\n",
    "print(factor(ZZ(frakf8(3))))\n",
    "print(factor(ZZ(frakf9(1))))\n",
    "print(factor(ZZ(frakf10(3))))\n",
    "print(factor(ZZ(frakf12(1))))\n",
    "print(factor(ZZ(frakf22(1))))\n",
    "print(factor(ZZ(frakf24(1))))\n",
    "print(factor(ZZ(frakf26(7))))\n",
    "print(factor(ZZ(frakf28(10))))"
   ]
  },
  {
   "cell_type": "markdown",
   "metadata": {
    "collapsed": false
   },
   "source": [
    "We now proceed by cases to show Theorem 4.3."
   ]
  },
  {
   "cell_type": "markdown",
   "metadata": {
    "collapsed": false
   },
   "source": [
    "**Case $T=C_1$**. By Theorem4_3.nb, we have that $\\max\\{|c_{4,T}^3|,c_{6,T}^2\\} = |c_{4,T}^3|$ if $|n|>1$. The code below outputs the following:\n",
    "1) $\\mathfrak{h}_T - |c_{4,T}^3| ==0$. Since this is true, we verify that $\\mathfrak{h}_T  = |c_{4,T}^3|$.\n",
    "2) $[\\mathfrak{f}_T , \\mathcal{D}_T]$. From it, we observe that if $\\mathfrak{f}_T$ is squarefree for some integer $n$, then the conductor of $F_T$ is $\\mathfrak{f}_T$.\n",
    "3) $\\lim_{t\\rightarrow\\infty}\\frac{\\log\\mathfrak{H}_{T}}{\\log\\mathfrak{f}_{T}}=l_{T}$\n",
    "4) $\\lim_{t\\rightarrow -\\infty}\\frac{\\log\\mathfrak{H}_{T}}{\\log\\mathfrak{f}_{T}}=l_{T}$\n",
    "\n",
    "\n",
    "Thus, $\\lim_{|t|\\rightarrow\\infty}\\frac{\\log\\mathfrak{H}_{T}}{\\log\\mathfrak{f}_{T}}=l_{T}$."
   ]
  },
  {
   "cell_type": "code",
   "execution_count": 3,
   "metadata": {
    "collapsed": false
   },
   "outputs": [
    {
     "name": "stdout",
     "output_type": "stream",
     "text": [
      "True\n",
      "[(144*n^2 + 60*n + 13)*(12*n + 7), -(144*n^2 + 60*n + 13)*(12*n + 7)]\n"
     ]
    },
    {
     "name": "stdout",
     "output_type": "stream",
     "text": [
      "1.00000000000000\n",
      "1.00000000000000\n"
     ]
    }
   ],
   "source": [
    "print(S(frakh1(n)-abs(c4_1(n)^3))==0)\n",
    "print([frakf1(n),factor(calD_1(n))])\n",
    "print(MSRlp(frakh1(t),frakf1(t)))\n",
    "print(MSRln(frakh1(t),frakf1(t)))"
   ]
  },
  {
   "cell_type": "markdown",
   "metadata": {
    "collapsed": false
   },
   "source": [
    "**Case $T=C_2$**. By Theorem4_3.nb, we have that $\\max\\{|c_{4,T}^3|,c_{6,T}^2\\} = |c_{4,T}^3|$ if $|n|>1$. The code below outputs the following:\n",
    "1) $\\mathfrak{h}_T - |c_{4,T}^3| ==0$. Since this is true, we verify that $\\mathfrak{h}_T  = |c_{4,T}^3|$.\n",
    "2) $[\\mathfrak{f}_T , \\mathcal{D}_T]$. From it, we observe that if $\\mathfrak{f}_T$ is squarefree for some integer $n$, then the conductor of $F_T$ is $\\mathfrak{f}_T$.\n",
    "3) $\\lim_{t\\rightarrow\\infty}\\frac{\\log\\mathfrak{H}_{T}}{\\log\\mathfrak{f}_{T}}=l_{T}$\n",
    "4) $\\lim_{t\\rightarrow -\\infty}\\frac{\\log\\mathfrak{H}_{T}}{\\log\\mathfrak{f}_{T}}=l_{T}$\n",
    "\n",
    "\n",
    "Thus, $\\lim_{|t|\\rightarrow\\infty}\\frac{\\log\\mathfrak{H}_{T}}{\\log\\mathfrak{f}_{T}}=l_{T}$."
   ]
  },
  {
   "cell_type": "code",
   "execution_count": 4,
   "metadata": {
    "collapsed": false
   },
   "outputs": [
    {
     "name": "stdout",
     "output_type": "stream",
     "text": [
      "True\n",
      "[(64*n - 1)*n, (64*n - 1)^2*n]\n",
      "1.50000000000000\n",
      "1.50000000000000\n"
     ]
    }
   ],
   "source": [
    "print(S(frakh2(n)-abs(c4_2(n)^3))==0)\n",
    "print([frakf2(n),factor(calD_2(n))])\n",
    "print(MSRlp(frakh2(t),frakf2(t)))\n",
    "print(MSRln(frakh2(t),frakf2(t)))"
   ]
  },
  {
   "cell_type": "markdown",
   "metadata": {
    "collapsed": false
   },
   "source": [
    "**Case $T=C_3$**. By Theorem4_3.nb, we have that $\\max\\{|c_{4,T}^3|,c_{6,T}^2\\} = c_{6,T}^2$ if $|n|>1$. The code below outputs the following:\n",
    "1) $\\mathfrak{h}_T - c_{6,T}^2 ==0$. Since this is true, we verify that $\\mathfrak{h}_T  = c_{6,T}^2$\n",
    "2) $[\\mathfrak{f}_T , \\mathcal{D}_T]$. From it, we observe that if $\\mathfrak{f}_T$ is squarefree for some integer $n$, then the conductor of $F_T$ is $\\mathfrak{f}_T$.\n",
    "3) $\\lim_{t\\rightarrow\\infty}\\frac{\\log\\mathfrak{H}_{T}}{\\log\\mathfrak{f}_{T}}=l_{T}$\n",
    "4) $\\lim_{t\\rightarrow -\\infty}\\frac{\\log\\mathfrak{H}_{T}}{\\log\\mathfrak{f}_{T}}=l_{T}$\n",
    "\n",
    "\n",
    "Thus, $\\lim_{|t|\\rightarrow\\infty}\\frac{\\log\\mathfrak{H}_{T}}{\\log\\mathfrak{f}_{T}}=l_{T}$."
   ]
  },
  {
   "cell_type": "code",
   "execution_count": 5,
   "metadata": {
    "collapsed": false
   },
   "outputs": [
    {
     "name": "stdout",
     "output_type": "stream",
     "text": [
      "True\n",
      "[(27*n - 1)*n, -(27*n - 1)*n^3]\n",
      "2.00000000000000\n",
      "2.00000000000000\n"
     ]
    }
   ],
   "source": [
    "print(S(frakh3(n)-c6_3(n)^2)==0)\n",
    "print([frakf3(n),factor(calD_3(n))])\n",
    "print(MSRlp(frakh3(t),frakf3(t)))\n",
    "print(MSRln(frakh3(t),frakf3(t)))"
   ]
  },
  {
   "cell_type": "markdown",
   "metadata": {
    "collapsed": false
   },
   "source": [
    "**Case $T=C_4$**. By Theorem4_3.nb, we have that $\\max\\{|c_{4,T}^3|,c_{6,T}^2\\} = |c_{4,T}^3|$ if $|n|>1$. The code below outputs the following:\n",
    "1) $\\mathfrak{h}_T - |c_{4,T}^3| ==0$. Since this is true, we verify that $\\mathfrak{h}_T  = |c_{4,T}^3|$.\n",
    "2) $[\\mathfrak{f}_T , \\mathcal{D}_T]$. From it, we observe that if $\\mathfrak{f}_T$ is squarefree for some integer $n$, then the conductor of $F_T$ is $\\mathfrak{f}_T$.\n",
    "3) $\\lim_{t\\rightarrow\\infty}\\frac{\\log\\mathfrak{H}_{T}}{\\log\\mathfrak{f}_{T}}=l_{T}$\n",
    "4) $\\lim_{t\\rightarrow -\\infty}\\frac{\\log\\mathfrak{H}_{T}}{\\log\\mathfrak{f}_{T}}=l_{T}$\n",
    "\n",
    "\n",
    "Thus, $\\lim_{|t|\\rightarrow\\infty}\\frac{\\log\\mathfrak{H}_{T}}{\\log\\mathfrak{f}_{T}}=l_{T}$."
   ]
  },
  {
   "cell_type": "code",
   "execution_count": 6,
   "metadata": {
    "collapsed": false
   },
   "outputs": [
    {
     "name": "stdout",
     "output_type": "stream",
     "text": [
      "True\n",
      "[(20*n^2 - 1)*(2*n + 1)*(2*n - 1)*n, (20*n^2 - 1)*(2*n + 1)^4*(2*n - 1)^4*n^2]\n",
      "2.40000000000000\n",
      "2.40000000000000\n"
     ]
    }
   ],
   "source": [
    "print(S(frakh4(n)-abs(c4_4(n)^3))==0)\n",
    "print([frakf4(n),factor(calD_4(n))])\n",
    "print(MSRlp(frakh4(t),frakf4(t)))\n",
    "print(MSRln(frakh4(t),frakf4(t)))"
   ]
  },
  {
   "cell_type": "markdown",
   "metadata": {
    "collapsed": false
   },
   "source": [
    "**Case $T=C_5$**. By Theorem4_3.nb, we have that $\\max\\{|c_{4,T}^3|,c_{6,T}^2\\} = c_{6,T}^2$ if $|n|>1$. The code below outputs the following:\n",
    "1) $\\mathfrak{h}_T - c_{6,T}^2 ==0$. Since this is true, we verify that $\\mathfrak{h}_T  = c_{6,T}^2$\n",
    "2) $[\\mathfrak{f}_T , \\mathcal{D}_T]$. From it, we observe that if $\\mathfrak{f}_T$ is squarefree for some integer $n$, then the conductor of $F_T$ is $\\mathfrak{f}_T$.\n",
    "3) $\\lim_{t\\rightarrow\\infty}\\frac{\\log\\mathfrak{H}_{T}}{\\log\\mathfrak{f}_{T}}=l_{T}$\n",
    "4) $\\lim_{t\\rightarrow -\\infty}\\frac{\\log\\mathfrak{H}_{T}}{\\log\\mathfrak{f}_{T}}=l_{T}$\n",
    "\n",
    "\n",
    "Thus, $\\lim_{|t|\\rightarrow\\infty}\\frac{\\log\\mathfrak{H}_{T}}{\\log\\mathfrak{f}_{T}}=l_{T}$."
   ]
  },
  {
   "cell_type": "code",
   "execution_count": 7,
   "metadata": {
    "collapsed": false
   },
   "outputs": [
    {
     "name": "stdout",
     "output_type": "stream",
     "text": [
      "True\n",
      "[(25*n^2 + 15*n + 1)*(2*n + 1)*n, -(25*n^2 + 15*n + 1)*(2*n + 1)^5*n^5]\n",
      "3.00000000000000\n",
      "3.00000000000000\n"
     ]
    }
   ],
   "source": [
    "print(S(frakh5(n)-c6_5(n)^2)==0)\n",
    "print([frakf5(n),factor(calD_5(n))])\n",
    "print(MSRlp(frakh5(t),frakf5(t)))\n",
    "print(MSRln(frakh5(t),frakf5(t)))"
   ]
  },
  {
   "cell_type": "markdown",
   "metadata": {
    "collapsed": false
   },
   "source": [
    "**Case $T=C_6$**. By Theorem4_3.nb, we have that $\\max\\{|c_{4,T}^3|,c_{6,T}^2\\} = |c_{4,T}^3|$ if $|n|>1$. The code below outputs the following:\n",
    "1) $\\mathfrak{h}_T - |c_{4,T}^3| ==0$. Since this is true, we verify that $\\mathfrak{h}_T  = |c_{4,T}^3|$.\n",
    "2) $[\\mathfrak{f}_T , \\mathcal{D}_T]$. From it, we observe that if $\\mathfrak{f}_T$ is squarefree for some integer $n$, then the conductor of $F_T$ is $\\mathfrak{f}_T$.\n",
    "3) $\\lim_{t\\rightarrow\\infty}\\frac{\\log\\mathfrak{H}_{T}}{\\log\\mathfrak{f}_{T}}=l_{T}$\n",
    "4) $\\lim_{t\\rightarrow -\\infty}\\frac{\\log\\mathfrak{H}_{T}}{\\log\\mathfrak{f}_{T}}=l_{T}$\n",
    "\n",
    "\n",
    "Thus, $\\lim_{|t|\\rightarrow\\infty}\\frac{\\log\\mathfrak{H}_{T}}{\\log\\mathfrak{f}_{T}}=l_{T}$."
   ]
  },
  {
   "cell_type": "code",
   "execution_count": 8,
   "metadata": {
    "collapsed": false
   },
   "outputs": [
    {
     "name": "stdout",
     "output_type": "stream",
     "text": [
      "True\n",
      "[(12*n + 1)*(4*n + 1)*(3*n + 1)*n, (12*n + 1)*(4*n + 1)^3*(3*n + 1)^2*n^6]\n",
      "3.00000000000000\n",
      "3.00000000000000\n"
     ]
    }
   ],
   "source": [
    "print(S(frakh6(n)-abs(factor(c4_6(n))^3))==0)\n",
    "print([frakf6(n),factor(calD_6(n))])\n",
    "print(MSRlp(frakh6(t),frakf6(t)))\n",
    "print(MSRln(frakh6(t),frakf6(t)))"
   ]
  },
  {
   "cell_type": "markdown",
   "metadata": {
    "collapsed": false
   },
   "source": [
    "**Case $T=C_7$**. By Theorem4_3.nb, we have that $\\max\\{|c_{4,T}^3|,c_{6,T}^2\\} = c_{6,T}^2$ if $|n|>1$. The code below outputs the following:\n",
    "1) $\\mathfrak{h}_T - c_{6,T}^2 ==0$. Since this is true, we verify that $\\mathfrak{h}_T  = c_{6,T}^2$\n",
    "2) $[\\mathfrak{f}_T , \\mathcal{D}_T]$. From it, we observe that if $\\mathfrak{f}_T$ is squarefree for some integer $n$, then the conductor of $F_T$ is $\\mathfrak{f}_T$.\n",
    "3) $\\lim_{t\\rightarrow\\infty}\\frac{\\log\\mathfrak{H}_{T}}{\\log\\mathfrak{f}_{T}}=l_{T}$\n",
    "4) $\\lim_{t\\rightarrow -\\infty}\\frac{\\log\\mathfrak{H}_{T}}{\\log\\mathfrak{f}_{T}}=l_{T}$\n",
    "\n",
    "\n",
    "Thus, $\\lim_{|t|\\rightarrow\\infty}\\frac{\\log\\mathfrak{H}_{T}}{\\log\\mathfrak{f}_{T}}=l_{T}$."
   ]
  },
  {
   "cell_type": "code",
   "execution_count": 9,
   "metadata": {
    "collapsed": false
   },
   "outputs": [
    {
     "name": "stdout",
     "output_type": "stream",
     "text": [
      "True\n",
      "[(49*n^3 + 49*n^2 + 14*n + 1)*(3*n + 1)*(2*n + 1)*n, -(49*n^3 + 49*n^2 + 14*n + 1)*(3*n + 1)^7*(2*n + 1)^7*n^7]\n",
      "4.00000000000000\n"
     ]
    },
    {
     "name": "stdout",
     "output_type": "stream",
     "text": [
      "4.00000000000000\n"
     ]
    }
   ],
   "source": [
    "print(S(frakh7(n)-c6_7(n)^2)==0)\n",
    "print([frakf7(n),factor(calD_7(n))])\n",
    "print(MSRlp(frakh7(t),frakf7(t)))\n",
    "print(MSRln(frakh7(t),frakf7(t)))"
   ]
  },
  {
   "cell_type": "markdown",
   "metadata": {
    "collapsed": false
   },
   "source": [
    "**Case $T=C_8$**. By Theorem4_3.nb, we have that $\\max\\{|c_{4,T}^3|,c_{6,T}^2\\} = c_{6,T}^2$ if $|n|>1$. The code below outputs the following:\n",
    "1) $\\mathfrak{h}_T - c_{6,T}^2 ==0$. Since this is true, we verify that $\\mathfrak{h}_T  = c_{6,T}^2$\n",
    "2) $[\\mathfrak{f}_T , \\mathcal{D}_T]$. From it, we observe that if $\\mathfrak{f}_T$ is squarefree for some integer $n$, then the conductor of $F_T$ is $\\mathfrak{f}_T$.\n",
    "3) $\\lim_{t\\rightarrow\\infty}\\frac{\\log\\mathfrak{H}_{T}}{\\log\\mathfrak{f}_{T}}=l_{T}$\n",
    "4) $\\lim_{t\\rightarrow -\\infty}\\frac{\\log\\mathfrak{H}_{T}}{\\log\\mathfrak{f}_{T}}=l_{T}$\n",
    "\n",
    "\n",
    "Thus, $\\lim_{|t|\\rightarrow\\infty}\\frac{\\log\\mathfrak{H}_{T}}{\\log\\mathfrak{f}_{T}}=l_{T}$."
   ]
  },
  {
   "cell_type": "code",
   "execution_count": 10,
   "metadata": {
    "collapsed": false
   },
   "outputs": [
    {
     "name": "stdout",
     "output_type": "stream",
     "text": [
      "True\n",
      "[(8*n^2 - 1)*(4*n + 1)*(3*n + 1)*(2*n + 1)*n, -(8*n^2 - 1)*(4*n + 1)^2*(3*n + 1)^8*(2*n + 1)^4*n^8]\n"
     ]
    },
    {
     "name": "stdout",
     "output_type": "stream",
     "text": [
      "4.00000000000000\n",
      "4.00000000000000\n"
     ]
    }
   ],
   "source": [
    "print(S(frakh8(n)-c6_8(n)^2)==0)\n",
    "print([frakf8(n),factor(calD_8(n))])\n",
    "print(MSRlp(frakh8(t),frakf8(t)))\n",
    "print(MSRln(frakh8(t),frakf8(t)))"
   ]
  },
  {
   "cell_type": "markdown",
   "metadata": {
    "collapsed": false
   },
   "source": [
    "**Case $T=C_9$**. By Theorem4_3.nb, we have that $\\max\\{|c_{4,T}^3|,c_{6,T}^2\\} = c_{6,T}^2$ if $|n|>1$. The code below outputs the following:\n",
    "1) $\\mathfrak{h}_T - c_{6,T}^2 ==0$. Since this is true, we verify that $\\mathfrak{h}_T  = c_{6,T}^2$\n",
    "2) $[\\mathfrak{f}_T , \\mathcal{D}_T]$. From it, we observe that if $\\mathfrak{f}_T$ is squarefree for some integer $n$, then the conductor of $F_T$ is $\\mathfrak{f}_T$.\n",
    "3) $\\lim_{t\\rightarrow\\infty}\\frac{\\log\\mathfrak{H}_{T}}{\\log\\mathfrak{f}_{T}}=l_{T}$\n",
    "4) $\\lim_{t\\rightarrow -\\infty}\\frac{\\log\\mathfrak{H}_{T}}{\\log\\mathfrak{f}_{T}}=l_{T}$\n",
    "\n",
    "\n",
    "Thus, $\\lim_{|t|\\rightarrow\\infty}\\frac{\\log\\mathfrak{H}_{T}}{\\log\\mathfrak{f}_{T}}=l_{T}$."
   ]
  },
  {
   "cell_type": "code",
   "execution_count": 11,
   "metadata": {
    "collapsed": false
   },
   "outputs": [
    {
     "name": "stdout",
     "output_type": "stream",
     "text": [
      "True\n",
      "[(9*n^3 + 18*n^2 + 9*n + 1)*(3*n^2 + 3*n + 1)*(2*n + 1)*(n + 1)*n, -(9*n^3 + 18*n^2 + 9*n + 1)*(3*n^2 + 3*n + 1)^3*(2*n + 1)^9*(n + 1)^9*n^9]\n",
      "4.50000000000000\n",
      "4.50000000000000\n"
     ]
    }
   ],
   "source": [
    "print(S(frakh9(n)-c6_9(n)^2)==0)\n",
    "print([frakf9(n),factor(calD_9(n))])\n",
    "print(MSRlp(frakh9(t),frakf9(t)))\n",
    "print(MSRln(frakh9(t),frakf9(t)))"
   ]
  },
  {
   "cell_type": "markdown",
   "metadata": {
    "collapsed": false
   },
   "source": [
    "**Case $T=C_{10}$**.By Theorem4_3.nb, we have that $\\max\\{|c_{4,T}^3|,c_{6,T}^2\\} = |c_{4,T}^3|$ if $|n|>1$. The code below outputs the following:\n",
    "1) $\\mathfrak{h}_T - |c_{4,T}^3| ==0$. Since this is true, we verify that $\\mathfrak{h}_T  = |c_{4,T}^3|$.\n",
    "2) $[\\mathfrak{f}_T , \\mathcal{D}_T]$. From it, we observe that if $\\mathfrak{f}_T$ is squarefree for some integer $n$, then the conductor of $F_T$ is $\\mathfrak{f}_T$.\n",
    "3) $\\lim_{t\\rightarrow\\infty}\\frac{\\log\\mathfrak{H}_{T}}{\\log\\mathfrak{f}_{T}}=l_{T}$\n",
    "4) $\\lim_{t\\rightarrow -\\infty}\\frac{\\log\\mathfrak{H}_{T}}{\\log\\mathfrak{f}_{T}}=l_{T}$\n",
    "\n",
    "\n",
    "Thus, $\\lim_{|t|\\rightarrow\\infty}\\frac{\\log\\mathfrak{H}_{T}}{\\log\\mathfrak{f}_{T}}=l_{T}$."
   ]
  },
  {
   "cell_type": "code",
   "execution_count": 12,
   "metadata": {
    "collapsed": false
   },
   "outputs": [
    {
     "name": "stdout",
     "output_type": "stream",
     "text": [
      "True\n",
      "[(20*n^2 + 10*n + 1)*(5*n^2 + 5*n + 1)*(4*n + 1)*(3*n + 1)*(2*n + 1)*n, (20*n^2 + 10*n + 1)*(5*n^2 + 5*n + 1)^2*(4*n + 1)^5*(3*n + 1)^10*(2*n + 1)^5*n^10]\n",
      "4.50000000000000\n",
      "4.50000000000000\n"
     ]
    }
   ],
   "source": [
    "print(S(frakh10(n)-abs(factor(c4_10(n)^3)))==0)\n",
    "print([frakf10(n),factor(calD_10(n))])\n",
    "print(MSRlp(frakh10(t),frakf10(t)))\n",
    "print(MSRln(frakh10(t),frakf10(t)))"
   ]
  },
  {
   "cell_type": "markdown",
   "metadata": {
    "collapsed": false
   },
   "source": [
    "**Case $T=C_{12}$**. By Theorem4_3.nb, we have that $\\max\\{|c_{4,T}^3|,c_{6,T}^2\\} = |c_{4,T}^3|$ if $|n|>1$. The code below outputs the following:\n",
    "1) $\\mathfrak{h}_T - |c_{4,T}^3| ==0$. Since this is true, we verify that $\\mathfrak{h}_T  = |c_{4,T}^3|$.\n",
    "2) $[\\mathfrak{f}_T , \\mathcal{D}_T]$. From it, we observe that if $\\mathfrak{f}_T$ is squarefree for some integer $n$, then the conductor of $F_T$ is $\\mathfrak{f}_T$.\n",
    "3) $\\lim_{t\\rightarrow\\infty}\\frac{\\log\\mathfrak{H}_{T}}{\\log\\mathfrak{f}_{T}}=l_{T}$\n",
    "4) $\\lim_{t\\rightarrow -\\infty}\\frac{\\log\\mathfrak{H}_{T}}{\\log\\mathfrak{f}_{T}}=l_{T}$\n",
    "\n",
    "\n",
    "Thus, $\\lim_{|t|\\rightarrow\\infty}\\frac{\\log\\mathfrak{H}_{T}}{\\log\\mathfrak{f}_{T}}=l_{T}$."
   ]
  },
  {
   "cell_type": "code",
   "execution_count": 13,
   "metadata": {
    "collapsed": false
   },
   "outputs": [
    {
     "name": "stdout",
     "output_type": "stream",
     "text": [
      "True\n",
      "[(26*n^2 + 10*n + 1)*(21*n^2 + 9*n + 1)*(6*n^2 + 6*n + 1)*(6*n + 1)*(5*n + 1)*(4*n + 1)*n, (26*n^2 + 10*n + 1)^3*(21*n^2 + 9*n + 1)^4*(6*n^2 + 6*n + 1)*(6*n + 1)^2*(5*n + 1)^12*(4*n + 1)^6*n^12]\n",
      "4.80000000000000\n"
     ]
    },
    {
     "name": "stdout",
     "output_type": "stream",
     "text": [
      "4.80000000000000\n"
     ]
    }
   ],
   "source": [
    "print(S(frakh12(n)-abs(factor(c4_12(n)^3)))==0)\n",
    "print([frakf12(n),factor(calD_12(n))])\n",
    "print(MSRlp(frakh12(t),frakf12(t)))\n",
    "print(MSRln(frakh12(t),frakf12(t)))"
   ]
  },
  {
   "cell_type": "markdown",
   "metadata": {
    "collapsed": false
   },
   "source": [
    "**Case $T=C_2 \\times C_2$**. By Theorem4_3.nb, we have that $\\max\\{|c_{4,T}^3|,c_{6,T}^2\\} = |c_{4,T}^3|$ if $|n|>1$. The code below outputs the following:\n",
    "1) $\\mathfrak{h}_T - |c_{4,T}^3| ==0$. Since this is true, we verify that $\\mathfrak{h}_T  = |c_{4,T}^3|$.\n",
    "2) $[\\mathfrak{f}_T , \\mathcal{D}_T]$. From it, we observe that if $\\mathfrak{f}_T$ is squarefree for some integer $n$, then the conductor of $F_T$ is $\\mathfrak{f}_T$.\n",
    "3) $\\lim_{t\\rightarrow\\infty}\\frac{\\log\\mathfrak{H}_{T}}{\\log\\mathfrak{f}_{T}}=l_{T}$\n",
    "4) $\\lim_{t\\rightarrow -\\infty}\\frac{\\log\\mathfrak{H}_{T}}{\\log\\mathfrak{f}_{T}}=l_{T}$\n",
    "\n",
    "\n",
    "Thus, $\\lim_{|t|\\rightarrow\\infty}\\frac{\\log\\mathfrak{H}_{T}}{\\log\\mathfrak{f}_{T}}=l_{T}$."
   ]
  },
  {
   "cell_type": "code",
   "execution_count": 14,
   "metadata": {
    "collapsed": false
   },
   "outputs": [
    {
     "name": "stdout",
     "output_type": "stream",
     "text": [
      "True\n",
      "[(12*n - 1)*(4*n + 1)*n, (12*n - 1)^2*(4*n + 1)^2*n^2]\n",
      "2.00000000000000\n",
      "2.00000000000000\n"
     ]
    }
   ],
   "source": [
    "print(S(frakh22(n)-abs(factor(c4_22(n)^3)))==0)\n",
    "print([frakf22(n),factor(calD_22(n))])\n",
    "print(MSRlp(frakh22(t),frakf22(t)))\n",
    "print(MSRln(frakh22(t),frakf22(t)))"
   ]
  },
  {
   "cell_type": "markdown",
   "metadata": {
    "collapsed": false
   },
   "source": [
    "**Case $T=C_2 \\times C_4$**. By Theorem4_3.nb, we have that $\\max\\{|c_{4,T}^3|,c_{6,T}^2\\} = |c_{4,T}^3|$ if $|n|>1$. The code below outputs the following:\n",
    "1) $\\mathfrak{h}_T - |c_{4,T}^3| ==0$. Since this is true, we verify that $\\mathfrak{h}_T  = |c_{4,T}^3|$.\n",
    "2) $[\\mathfrak{f}_T , \\mathcal{D}_T]$. From it, we observe that if $\\mathfrak{f}_T$ is squarefree for some integer $n$, then the conductor of $F_T$ is $\\mathfrak{f}_T$.\n",
    "3) $\\lim_{t\\rightarrow\\infty}\\frac{\\log\\mathfrak{H}_{T}}{\\log\\mathfrak{f}_{T}}=l_{T}$\n",
    "4) $\\lim_{t\\rightarrow -\\infty}\\frac{\\log\\mathfrak{H}_{T}}{\\log\\mathfrak{f}_{T}}=l_{T}$\n",
    "\n",
    "\n",
    "Thus, $\\lim_{|t|\\rightarrow\\infty}\\frac{\\log\\mathfrak{H}_{T}}{\\log\\mathfrak{f}_{T}}=l_{T}$."
   ]
  },
  {
   "cell_type": "code",
   "execution_count": 15,
   "metadata": {
    "collapsed": false
   },
   "outputs": [
    {
     "name": "stdout",
     "output_type": "stream",
     "text": [
      "True\n",
      "[(10*n + 1)*(6*n + 1)*(2*n + 1)*n, (10*n + 1)^2*(6*n + 1)^4*(2*n + 1)^2*n^4]\n",
      "3.00000000000000\n",
      "3.00000000000000\n"
     ]
    }
   ],
   "source": [
    "print(S(frakh24(n)-abs(factor(c4_24(n)^3)))==0)\n",
    "print([frakf24(n),factor(calD_24(n))])\n",
    "print(MSRlp(frakh24(t),frakf24(t)))\n",
    "print(MSRln(frakh24(t),frakf24(t)))"
   ]
  },
  {
   "cell_type": "markdown",
   "metadata": {
    "collapsed": false
   },
   "source": [
    "**Case $T=C_2 \\times C_6$**. By Theorem4_3.nb, we have that $\\max\\{|c_{4,T}^3|,c_{6,T}^2\\} = |c_{4,T}^3|$ if $|n|>1$. The code below outputs the following:\n",
    "1) $\\mathfrak{h}_T - |c_{4,T}^3| ==0$. Since this is true, we verify that $\\mathfrak{h}_T  = |c_{4,T}^3|$.\n",
    "2) $[\\mathfrak{f}_T , \\mathcal{D}_T]$. From it, we observe that if $\\mathfrak{f}_T$ is squarefree for some integer $n$, then the conductor of $F_T$ is $\\mathfrak{f}_T$.\n",
    "3) $\\lim_{t\\rightarrow\\infty}\\frac{\\log\\mathfrak{H}_{T}}{\\log\\mathfrak{f}_{T}}=l_{T}$\n",
    "4) $\\lim_{t\\rightarrow -\\infty}\\frac{\\log\\mathfrak{H}_{T}}{\\log\\mathfrak{f}_{T}}=l_{T}$\n",
    "\n",
    "\n",
    "Thus, $\\lim_{|t|\\rightarrow\\infty}\\frac{\\log\\mathfrak{H}_{T}}{\\log\\mathfrak{f}_{T}}=l_{T}$."
   ]
  },
  {
   "cell_type": "code",
   "execution_count": 16,
   "metadata": {
    "collapsed": false
   },
   "outputs": [
    {
     "name": "stdout",
     "output_type": "stream",
     "text": [
      "True\n",
      "[(18*n + 7)*(12*n + 5)*(8*n + 3)*(5*n + 2)*(3*n + 1)*(2*n + 1), (18*n + 7)^2*(12*n + 5)^2*(8*n + 3)^6*(5*n + 2)^6*(3*n + 1)^2*(2*n + 1)^6]\n",
      "4.00000000000000\n",
      "4.00000000000000\n"
     ]
    }
   ],
   "source": [
    "print(S(frakh26(n)-abs(factor(c4_26(n)^3)))==0)\n",
    "print([frakf26(n),factor(calD_26(n))])\n",
    "print(MSRlp(frakh26(t),frakf26(t)))\n",
    "print(MSRln(frakh26(t),frakf26(t)))"
   ]
  },
  {
   "cell_type": "markdown",
   "metadata": {
    "collapsed": false
   },
   "source": [
    "**Case $T=C_2 \\times C_8$**. By Theorem4_3.nb, we have that $\\max\\{|c_{4,T}^3|,c_{6,T}^2\\} = |c_{4,T}^3|$ if $|n|>1$. The code below outputs the following:\n",
    "1) $\\mathfrak{h}_T - |c_{4,T}^3| ==0$. Since this is true, we verify that $\\mathfrak{h}_T  = |c_{4,T}^3|$.\n",
    "2) $[\\mathfrak{f}_T , \\mathcal{D}_T]$. From it, we observe that if $\\mathfrak{f}_T$ is squarefree for some integer $n$, then the conductor of $F_T$ is $\\mathfrak{f}_T$.\n",
    "3) $\\lim_{t\\rightarrow\\infty}\\frac{\\log\\mathfrak{H}_{T}}{\\log\\mathfrak{f}_{T}}=l_{T}$\n",
    "4) $\\lim_{t\\rightarrow -\\infty}\\frac{\\log\\mathfrak{H}_{T}}{\\log\\mathfrak{f}_{T}}=l_{T}$\n",
    "\n",
    "\n",
    "Thus, $\\lim_{|t|\\rightarrow\\infty}\\frac{\\log\\mathfrak{H}_{T}}{\\log\\mathfrak{f}_{T}}=l_{T}$."
   ]
  },
  {
   "cell_type": "code",
   "execution_count": 17,
   "metadata": {
    "collapsed": false
   },
   "outputs": [
    {
     "name": "stdout",
     "output_type": "stream",
     "text": [
      "True\n",
      "[(7*n^2 + 6*n + 1)*(5*n^2 + 4*n + 1)*(n^2 - 2*n - 1)*(3*n + 1)*(2*n + 1)*(n + 1)*n, (7*n^2 + 6*n + 1)^2*(5*n^2 + 4*n + 1)^4*(n^2 - 2*n - 1)^2*(3*n + 1)^8*(2*n + 1)^8*(n + 1)^8*n^8]\n",
      "4.80000000000000\n",
      "4.80000000000000\n"
     ]
    }
   ],
   "source": [
    "print(S(frakh28(n)-abs(factor(c4_28(n)^3)))==0)\n",
    "print([frakf28(n),factor(calD_28(n))])\n",
    "print(MSRlp(frakh28(t),frakf28(t)))\n",
    "print(MSRln(frakh28(t),frakf28(t)))"
   ]
  },
  {
   "cell_type": "code",
   "execution_count": 0,
   "metadata": {
    "collapsed": false
   },
   "outputs": [
   ],
   "source": [
   ]
  }
 ],
 "metadata": {
  "kernelspec": {
   "display_name": "SageMath 9.1",
   "language": "sagemath",
   "metadata": {
    "cocalc": {
     "description": "Open-source mathematical software system",
     "priority": 10,
     "url": "https://www.sagemath.org/"
    }
   },
   "name": "sage-9.1",
   "resource_dir": "/ext/jupyter/kernels/sage-9.1"
  },
  "language_info": {
   "codemirror_mode": {
    "name": "ipython",
    "version": 3
   },
   "file_extension": ".py",
   "mimetype": "text/x-python",
   "name": "python",
   "nbconvert_exporter": "python",
   "pygments_lexer": "ipython3",
   "version": "3.7.3"
  }
 },
 "nbformat": 4,
 "nbformat_minor": 4
}